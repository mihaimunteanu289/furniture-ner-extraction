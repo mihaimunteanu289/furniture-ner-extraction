{
 "cells": [
  {
   "cell_type": "markdown",
   "id": "5b910576-3b71-4c13-a257-d7c8b57379e9",
   "metadata": {},
   "source": [
    "### Import libraries"
   ]
  },
  {
   "cell_type": "code",
   "execution_count": 1,
   "id": "57b2df4a-e2ab-4cd8-9d29-f625771a6eec",
   "metadata": {},
   "outputs": [],
   "source": [
    "import pandas as pd\n",
    "import requests\n",
    "import re\n",
    "\n",
    "from collections import defaultdict\n",
    "from bs4 import BeautifulSoup"
   ]
  },
  {
   "cell_type": "markdown",
   "id": "bbdd2d69-4283-45ba-b183-c254a5f36533",
   "metadata": {},
   "source": [
    "### Read dataset"
   ]
  },
  {
   "cell_type": "code",
   "execution_count": 2,
   "id": "3ab99a13-4064-4d50-b264-7e01f27e508c",
   "metadata": {},
   "outputs": [],
   "source": [
    "df = pd.read_csv(\"data/products_dataset.csv\")"
   ]
  },
  {
   "cell_type": "markdown",
   "id": "c73a0fb3-ceb6-490d-89e1-e77fb5873566",
   "metadata": {},
   "source": [
    "### Extract the type of furniture from English dictionary"
   ]
  },
  {
   "cell_type": "code",
   "execution_count": 3,
   "id": "d7b95d7a-23a9-4fe6-a112-ab7448588253",
   "metadata": {},
   "outputs": [],
   "source": [
    "url = \"https://www.enchantedlearning.com/wordlist/furniture.shtml\"\n",
    "response = requests.get(url)\n",
    "soup = BeautifulSoup(response.text, 'html.parser')\n",
    "\n",
    "prods_list = []\n",
    "for tag in soup.find_all(class_='wordlist-item'):\n",
    "    # Replace non-alphanumeric characters with empty string (preserving spaces)\n",
    "    item = re.sub(r'[-/.*]', '', tag.text).lower().strip()\n",
    "    prods_list.append(item)"
   ]
  },
  {
   "cell_type": "markdown",
   "id": "458083f6-2899-4c10-9df1-16d94634d50f",
   "metadata": {},
   "source": [
    "### Build the dataframe in the workable format"
   ]
  },
  {
   "cell_type": "code",
   "execution_count": 4,
   "id": "dfa4ce19-4f3f-42ec-aea4-5e8120265cd8",
   "metadata": {},
   "outputs": [],
   "source": [
    "# Convert list to a dictionary for faster lookup\n",
    "prods_dict = defaultdict(str)\n",
    "for prod in prods_list:\n",
    "    prods_dict[prod.lower()] = prod.upper().replace(' ', '-')\n",
    "\n",
    "# Initialize your new data\n",
    "new_data = {'tokens': [], 'ner_tags': []}\n",
    "\n",
    "# Iterate over your DataFrame\n",
    "for _, row in df.iterrows():\n",
    "    sentence = str(row['Products'])\n",
    "    sentence_tokens = sentence.split()\n",
    "    sentence_ner_tags = []\n",
    "    \n",
    "    # Iterate over tokens in the sentence\n",
    "    token_index = 0\n",
    "    while token_index < len(sentence_tokens):\n",
    "        token = sentence_tokens[token_index]\n",
    "        \n",
    "        matched_prod = None\n",
    "        for prod in prods_dict:\n",
    "            prod_tokens = prod.split()\n",
    "            if sentence_tokens[token_index:token_index+len(prod_tokens)] == prod_tokens:\n",
    "                matched_prod = prod\n",
    "                break\n",
    "\n",
    "        if matched_prod:\n",
    "            for _ in matched_prod.split():\n",
    "                # If it's the beginning of the product name, add 'B-', else add 'I-'\n",
    "                prefix = 'B-' if _ == matched_prod.split()[0] else 'I-'\n",
    "                sentence_ner_tags.append(prefix + prods_dict[matched_prod])\n",
    "                token_index += 1\n",
    "        else:\n",
    "            sentence_ner_tags.append('O')\n",
    "            token_index += 1\n",
    "            \n",
    "    # Append the tokens and tags to your new data\n",
    "    new_data['tokens'].append(sentence_tokens)\n",
    "    new_data['ner_tags'].append(sentence_ner_tags)\n",
    "\n",
    "# Convert new data to DataFrame\n",
    "df_model = pd.DataFrame(new_data)"
   ]
  },
  {
   "cell_type": "markdown",
   "id": "eb199531-2fae-4920-b6c9-d6cbeee4c858",
   "metadata": {},
   "source": [
    "Let's check how many products from the English dictionary are matching with the ones from the extracted URL's"
   ]
  },
  {
   "cell_type": "code",
   "execution_count": 5,
   "id": "03c57d7b-71af-4cf7-acd9-3216b633be8f",
   "metadata": {},
   "outputs": [
    {
     "name": "stdout",
     "output_type": "stream",
     "text": [
      "Looks like we have a number of 84 extracted prods out of a total of 143 from the dictionary.\n"
     ]
    }
   ],
   "source": [
    "unique_ner_tags = list(set([tag for sublist in new_data['ner_tags'] for tag in sublist]))\n",
    "\n",
    "len_dict_prods = len(prods_list)\n",
    "len_extracted_prods = len(unique_ner_tags)\n",
    "print(f\"Looks like we have a number of {len_extracted_prods} extracted prods out of a total of {len_dict_prods} from the dictionary.\")"
   ]
  },
  {
   "cell_type": "markdown",
   "id": "0b81c0f5-d353-48a1-af79-547b13cfdf77",
   "metadata": {},
   "source": [
    "### Build a dataframe to do some small EDA"
   ]
  },
  {
   "cell_type": "code",
   "execution_count": 6,
   "id": "0b2cae6e-ff1d-4e60-a2ed-1cdf3db7533e",
   "metadata": {},
   "outputs": [],
   "source": [
    "# Extract the domain from the URL in df DataFrame\n",
    "df['domain'] = df['url'].apply(lambda x: x.split('/')[2])\n",
    "df_eda = pd.merge(df_model, df['domain'], left_index=True, right_index=True)"
   ]
  },
  {
   "cell_type": "markdown",
   "id": "9a60f5e4-01d0-450c-a981-ce3cb41250a5",
   "metadata": {},
   "source": [
    "Check which is the most popular product on each website"
   ]
  },
  {
   "cell_type": "code",
   "execution_count": 7,
   "id": "0e8682f1-a501-4c57-9120-f08ec8430450",
   "metadata": {},
   "outputs": [],
   "source": [
    "# Flatten the 'ner_tags' column and remove the \"O\" tags\n",
    "df_non_o_tags = df_eda.explode('ner_tags').loc[lambda x: x['ner_tags'] != 'O']\n",
    "\n",
    "# Check which is the most popular products on each website\n",
    "popular_tags = df_non_o_tags.groupby(['domain'])['ner_tags'].value_counts().groupby(level=0).idxmax().str[1]"
   ]
  },
  {
   "cell_type": "markdown",
   "id": "03f83294-ff2f-42fb-857b-a36a421a0145",
   "metadata": {},
   "source": [
    "Let's take an example to check if we meesed something up"
   ]
  },
  {
   "cell_type": "code",
   "execution_count": 8,
   "id": "79d80a96-bb4d-4eec-af57-e5571fca990f",
   "metadata": {},
   "outputs": [
    {
     "name": "stdout",
     "output_type": "stream",
     "text": [
      "The domain selling the highest number of products is www.saladinostyle.com. They have around 64 furniture products on their website.\n",
      "The most popular tag is B-CHAIR appearing 15 times.\n"
     ]
    }
   ],
   "source": [
    "most_popular_domain_name = df_non_o_tags['domain'].value_counts().idxmax()\n",
    "most_popular_domain_count = df_non_o_tags['domain'].value_counts().max()\n",
    "\n",
    "popular_tag = popular_tags.loc[most_popular_domain_name]\n",
    "occurrence = df_non_o_tags.loc[df_non_o_tags['domain'] == most_popular_domain_name, 'ner_tags'].value_counts().max()\n",
    "\n",
    "print(f\"The domain selling the highest number of products is {most_popular_domain_name}. They have around {most_popular_domain_count} furniture products on their website.\\n\"\n",
    "      f\"The most popular tag is {popular_tag} appearing {occurrence} times.\")"
   ]
  },
  {
   "cell_type": "markdown",
   "id": "4f90a86d-3988-4228-89f0-aabf4d72cfdb",
   "metadata": {},
   "source": [
    "Let's check for the most popular product from our list of URL's"
   ]
  },
  {
   "cell_type": "code",
   "execution_count": 9,
   "id": "61d8ac08-6db6-4e8f-b9e3-df8c389abec9",
   "metadata": {},
   "outputs": [
    {
     "name": "stdout",
     "output_type": "stream",
     "text": [
      "The most popular tag from the entire DataFrame is: B-CHAIR appearing 129 times.\n"
     ]
    }
   ],
   "source": [
    "# Check the most popular tag from the entire DataFrame\n",
    "most_popular_tag_name = df_non_o_tags['ner_tags'].value_counts().idxmax()\n",
    "most_popular_tag_count = df_non_o_tags['ner_tags'].value_counts().max()\n",
    "\n",
    "# Print the most popular tag\n",
    "print(f\"The most popular tag from the entire DataFrame is: {most_popular_tag_name} appearing {most_popular_tag_count} times.\")"
   ]
  },
  {
   "cell_type": "markdown",
   "id": "f2ac3e28-9b96-4b51-ba75-76e02c072f28",
   "metadata": {},
   "source": [
    "### Export dataframe we will used in the training process"
   ]
  },
  {
   "cell_type": "code",
   "execution_count": 10,
   "id": "c007c280-ce60-459d-a887-46b8a820d2fc",
   "metadata": {},
   "outputs": [],
   "source": [
    "df_model['ner_tags'] = df_model['ner_tags'].apply(lambda tags: ['B-PRODUCT' if tag.startswith('B-') else 'I-PRODUCT' if tag.startswith('I-') else 'O' for tag in tags])"
   ]
  },
  {
   "cell_type": "code",
   "execution_count": 11,
   "id": "ca04dc95-2332-4ba4-9de1-bbb751c062b1",
   "metadata": {},
   "outputs": [
    {
     "name": "stdout",
     "output_type": "stream",
     "text": [
      "O            4678\n",
      "B-PRODUCT     843\n",
      "I-PRODUCT      70\n",
      "dtype: int64\n"
     ]
    }
   ],
   "source": [
    "tag_counts = df_model['ner_tags'].apply(pd.Series).stack().value_counts()\n",
    "print(tag_counts)"
   ]
  },
  {
   "cell_type": "code",
   "execution_count": 12,
   "id": "fedec137-cc83-4098-8785-58f78ded03da",
   "metadata": {},
   "outputs": [],
   "source": [
    "df_model.to_csv(\"data/training_data.csv\", index=False)"
   ]
  },
  {
   "cell_type": "code",
   "execution_count": null,
   "id": "4b072964-1543-47e4-866d-6492e1ec6750",
   "metadata": {},
   "outputs": [],
   "source": []
  }
 ],
 "metadata": {
  "kernelspec": {
   "display_name": "Python 3 (ipykernel)",
   "language": "python",
   "name": "python3"
  },
  "language_info": {
   "codemirror_mode": {
    "name": "ipython",
    "version": 3
   },
   "file_extension": ".py",
   "mimetype": "text/x-python",
   "name": "python",
   "nbconvert_exporter": "python",
   "pygments_lexer": "ipython3",
   "version": "3.10.8"
  }
 },
 "nbformat": 4,
 "nbformat_minor": 5
}
