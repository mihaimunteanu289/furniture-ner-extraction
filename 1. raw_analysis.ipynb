{
 "cells": [
  {
   "cell_type": "markdown",
   "id": "1a73c704-485e-43e1-bd35-f33c13c725a5",
   "metadata": {},
   "source": [
    "### Import libraries"
   ]
  },
  {
   "cell_type": "code",
   "execution_count": 1,
   "id": "4961cd4a-4f5d-46f0-8984-fd4220266d0c",
   "metadata": {},
   "outputs": [],
   "source": [
    "import matplotlib.pyplot as plt\n",
    "import seaborn as sns\n",
    "import pandas as pd \n",
    "import numpy as np\n",
    "import tldextract\n",
    "\n",
    "from urllib.parse import urlparse\n",
    "\n",
    "sns.set(style=\"whitegrid\")\n",
    "sns.set_palette(\"pastel\")"
   ]
  },
  {
   "cell_type": "markdown",
   "id": "f0b99573-0b47-447d-8625-9a1c714b0f01",
   "metadata": {},
   "source": [
    "### Read dataset"
   ]
  },
  {
   "cell_type": "code",
   "execution_count": 2,
   "id": "473868d9-b4f7-45b5-bc7a-7624b4929907",
   "metadata": {},
   "outputs": [],
   "source": [
    "df = pd.read_csv('../data/furniture stores pages.csv')\n",
    "\n",
    "# Rename column \"max(page)\" to \"url\"\n",
    "df.rename(columns={'max(page)':'url'}, inplace=True)"
   ]
  },
  {
   "cell_type": "markdown",
   "id": "8164e3d0-b67d-40dc-a540-2a60f38ddc69",
   "metadata": {},
   "source": [
    "### Exploratory Data Analysis"
   ]
  },
  {
   "cell_type": "markdown",
   "id": "f1d69fd4-0fa6-47ad-bbe8-cf237e6c541f",
   "metadata": {},
   "source": [
    "Check the number of URL's"
   ]
  },
  {
   "cell_type": "code",
   "execution_count": 3,
   "id": "9d773a41-e5b6-4ba1-b640-0b6fc636f9e3",
   "metadata": {},
   "outputs": [
    {
     "name": "stdout",
     "output_type": "stream",
     "text": [
      "The dataframe has 704 url's\n"
     ]
    }
   ],
   "source": [
    "print(f\"The dataframe has {df.shape[0]} url's\")"
   ]
  },
  {
   "cell_type": "markdown",
   "id": "70b11f4d-4f97-4d40-8fe4-ab2bf47ab219",
   "metadata": {},
   "source": [
    "Remove duplicates if there are any"
   ]
  },
  {
   "cell_type": "code",
   "execution_count": 4,
   "id": "9bacdab4-96cd-4f2c-a52a-7cafa9f4d74f",
   "metadata": {},
   "outputs": [
    {
     "name": "stdout",
     "output_type": "stream",
     "text": [
      "The dataframe has 0 duplicate URL(s)\n"
     ]
    }
   ],
   "source": [
    "# Get the number of rows before removing duplicates\n",
    "original_rows = df.shape[0]\n",
    "\n",
    "df = df.drop_duplicates()\n",
    "num_duplicates = original_rows - df.shape[0]\n",
    "print(f\"The dataframe has {num_duplicates} duplicate URL(s)\")"
   ]
  },
  {
   "cell_type": "markdown",
   "id": "54ea69c2-3729-40ff-ab07-7866171330e0",
   "metadata": {},
   "source": [
    "Check for missing values"
   ]
  },
  {
   "cell_type": "code",
   "execution_count": 5,
   "id": "82fd75d7-a1bf-4383-a5be-c155f012c154",
   "metadata": {},
   "outputs": [
    {
     "name": "stdout",
     "output_type": "stream",
     "text": [
      "There are no missing values in the DataFrame\n"
     ]
    }
   ],
   "source": [
    "# Check for missing values\n",
    "missing_values = df.isnull().sum()\n",
    "\n",
    "if missing_values.sum() > 0:\n",
    "    print(\"There are missing values in the DataFrame\")\n",
    "    df = df.dropna()\n",
    "else:\n",
    "    print(\"There are no missing values in the DataFrame\")"
   ]
  },
  {
   "cell_type": "markdown",
   "id": "d1c4032e-4353-4322-8c12-f117fda84446",
   "metadata": {},
   "source": [
    "Check the website distribution (the domain of where the data is coming from)"
   ]
  },
  {
   "cell_type": "code",
   "execution_count": 6,
   "id": "9ce3384e-46cd-4bfe-aae2-0b496b2daada",
   "metadata": {},
   "outputs": [],
   "source": [
    "df['domain'] = df['url'].apply(lambda url: urlparse(url).netloc.replace('www.', ''))\n",
    "domain_counts = df['domain'].value_counts()\n",
    "\n",
    "# Count the domains having more than one appearance\n",
    "frequent_domains = domain_counts[domain_counts > 1]\n",
    "# df.url.to_list()"
   ]
  },
  {
   "cell_type": "code",
   "execution_count": 7,
   "id": "faf80b4a-c024-479b-b21b-203d17f9e752",
   "metadata": {},
   "outputs": [
    {
     "name": "stdout",
     "output_type": "stream",
     "text": [
      "It looks like we have 0 domains appearing more than once\n"
     ]
    }
   ],
   "source": [
    "print(f\"It looks like we have {len(frequent_domains)} domains appearing more than once\")"
   ]
  },
  {
   "cell_type": "markdown",
   "id": "31b77024-a3c9-414a-aa95-ec4e4adb2abf",
   "metadata": {},
   "source": [
    "Let's take a look at the URL structure!"
   ]
  },
  {
   "cell_type": "code",
   "execution_count": 8,
   "id": "88f450ef-1c66-4bdf-9f1e-8616981cfa03",
   "metadata": {},
   "outputs": [],
   "source": [
    "def parse_urls(df, url_column='url'):\n",
    "    # We parse the URL's to break 'em down into their components\n",
    "    df['parsed_url'] = df[url_column].apply(urlparse)\n",
    "    # Create a protocol column\n",
    "    df['protocol'] = df['parsed_url'].apply(lambda url: 0 if url.scheme == 'http' else (1 if url.scheme == 'https' else None))\n",
    "    # Create a top-level domain column consisting of the business nature and the country code\n",
    "    df['tld'] = df[url_column].apply(lambda url: tldextract.extract(url).suffix)\n",
    "    # Create a generic top-level domain column \n",
    "    df['generic_tld'] = df['tld'].apply(lambda tld: tld.split('.')[0] if len(tld.split('.')) > 1 else tld)\n",
    "    # Create a country code top-level domain column\n",
    "    df['country_code_tld'] = df['tld'].apply(lambda tld: tld.split('.')[1] if len(tld.split('.')) > 1 else None)\n",
    "    return df\n",
    "\n",
    "df = parse_urls(df)"
   ]
  },
  {
   "cell_type": "code",
   "execution_count": 9,
   "id": "dd887f25-62d9-4e9f-a9b3-4e514e606dec",
   "metadata": {},
   "outputs": [
    {
     "name": "stdout",
     "output_type": "stream",
     "text": [
      "HTTP protocol URL's: 31 (4.403%)\n",
      "HTTPS protocol URL's: 673 (95.597%)\n"
     ]
    }
   ],
   "source": [
    "http_protocols = len(df[df['protocol'] == 0])\n",
    "https_protocols = len(df[df['protocol'] == 1])\n",
    "\n",
    "print(f\"HTTP protocol URL's: {http_protocols} ({round(((http_protocols / df.shape[0]) * 100), 3)}%)\")\n",
    "print(f\"HTTPS protocol URL's: {https_protocols} ({round(((https_protocols / df.shape[0]) * 100), 3)}%)\")"
   ]
  },
  {
   "cell_type": "code",
   "execution_count": 10,
   "id": "55f4916f-9288-4cfc-a72a-b5d80e41abcd",
   "metadata": {},
   "outputs": [],
   "source": [
    "tld_counts = df['tld'].value_counts()\n",
    "generic_tld_counts = df['generic_tld'].value_counts()\n",
    "country_code_tld_counts = df['country_code_tld'].value_counts()\n",
    "\n",
    "# Create an \"Other\" category for value_counts less than 1%\n",
    "mask = df['country_code_tld'].map(country_code_tld_counts) / len(df) < 0.01\n",
    "df.loc[mask, 'country_code_tld'] = 'others'\n",
    "country_code_tld_counts = df['country_code_tld'].value_counts()"
   ]
  },
  {
   "cell_type": "markdown",
   "id": "c1848367-79d9-4a43-84cb-e30e0d072969",
   "metadata": {},
   "source": [
    "Geographical Visualization"
   ]
  },
  {
   "cell_type": "code",
   "execution_count": 11,
   "id": "820e34d2-ed6e-4820-a65b-295f08133b96",
   "metadata": {},
   "outputs": [
    {
     "data": {
      "image/png": "[encoded data removed]",
      "text/plain": [
       "<Figure size 900x500 with 1 Axes>"
      ]
     },
     "metadata": {},
     "output_type": "display_data"
    }
   ],
   "source": [
    "plt.figure(figsize=(9, 5))\n",
    "plt.title('Distribution of Country Code TLDs')\n",
    "\n",
    "plt.pie(country_code_tld_counts,\n",
    "        labels=country_code_tld_counts.index,\n",
    "        autopct='%1.1f%%')\n",
    "plt.axis('equal')\n",
    "plt.show()"
   ]
  },
  {
   "cell_type": "markdown",
   "id": "b919e761-7fd4-4112-9a56-00b88db61c2b",
   "metadata": {},
   "source": [
    "TLD's Visualization"
   ]
  },
  {
   "cell_type": "code",
   "execution_count": 12,
   "id": "dcfb2d01-cfff-439c-953b-dcc526d98ca5",
   "metadata": {},
   "outputs": [
    {
     "data": {
      "image/png": "[encoded data removed]",
      "text/plain": [
       "<Figure size 1000x400 with 2 Axes>"
      ]
     },
     "metadata": {},
     "output_type": "display_data"
    }
   ],
   "source": [
    "fig, axes = plt.subplots(nrows=1, ncols=2, figsize=(10, 4), sharex=False)\n",
    "\n",
    "# Plot for TLD's\n",
    "sns.barplot(x=tld_counts[:5].index, y=tld_counts[:5].values, ax=axes[0])\n",
    "axes[0].set_title('Top 3 Overall TLDs', fontsize=12)\n",
    "\n",
    "# Plot for generic TLD's\n",
    "sns.barplot(x=generic_tld_counts[:5].index, y=generic_tld_counts[:5].values, ax=axes[1])\n",
    "axes[1].set_title('Top 3 Generic TLDs', fontsize=12)\n",
    "\n",
    "plt.tight_layout()\n",
    "plt.show()"
   ]
  },
  {
   "cell_type": "markdown",
   "id": "ef2723f8-b5fa-4734-9d21-c02fc11f6103",
   "metadata": {},
   "source": [
    "- The most common top-level domain in our dataset was '.com', which appeared 374 times. The '.co.uk' and '.com.au' domains were also fairly common, with 129 and 81 occurrences, respectively. \n",
    "- When looking at the generic TLD's, '.com' was again the most common, with '.co' and '.ca' following. \n",
    "- The most common country code TLD's were '.uk', '.au', and '.nz'."
   ]
  },
  {
   "cell_type": "markdown",
   "id": "866d2479-78af-4355-ba36-7c032d2a3e41",
   "metadata": {},
   "source": [
    "### Export the dataframe"
   ]
  },
  {
   "cell_type": "code",
   "execution_count": 13,
   "id": "2da8de78-1962-4400-bc87-6f0b01d2add2",
   "metadata": {},
   "outputs": [],
   "source": [
    "df.to_csv('../data/preprocessed_data.csv', index=False)"
   ]
  },
  {
   "cell_type": "code",
   "execution_count": null,
   "id": "efdc26f7-26ee-43e1-9ab2-978a0ad95fbb",
   "metadata": {},
   "outputs": [],
   "source": []
  }
 ],
 "metadata": {
  "kernelspec": {
   "display_name": "Python 3 (ipykernel)",
   "language": "python",
   "name": "python3"
  },
  "language_info": {
   "codemirror_mode": {
    "name": "ipython",
    "version": 3
   },
   "file_extension": ".py",
   "mimetype": "text/x-python",
   "name": "python",
   "nbconvert_exporter": "python",
   "pygments_lexer": "ipython3",
   "version": "3.10.8"
  }
 },
 "nbformat": 4,
 "nbformat_minor": 5
}
